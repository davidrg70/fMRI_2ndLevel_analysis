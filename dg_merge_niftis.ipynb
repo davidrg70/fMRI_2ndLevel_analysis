{
 "cells": [
  {
   "cell_type": "code",
   "execution_count": 3,
   "id": "9fd4ba06-7501-4447-a497-8b98f2eb5dad",
   "metadata": {},
   "outputs": [
    {
     "name": "stdout",
     "output_type": "stream",
     "text": [
      "Merged NIfTI file saved as 'merged_clusters.nii'\n"
     ]
    }
   ],
   "source": [
    "# dg_merge_niftis - code to merge different images based on clusters saved after 2nd-level analysis in SPM.\n",
    "# I modified each cluster/nifti with the modified # version of mw_tidy, giving voxels of every cluster a \n",
    "# different value (1 for c1,2 for c2,3 for c3,and so on). Use merged nifti with labels saved in a txt file\n",
    "# for further FC analysis in CONN, following https://www.youtube.com/watch?v=Wjp_GOFD3oA&ab_channel=AndrewJahn\n",
    "\n",
    "import nibabel as nib\n",
    "import numpy as np\n",
    "\n",
    "# list of NIfTI files\n",
    "input_files = ['cluster1_both_AF_FWE_c0_h0_t0_s0_b1.nii','cluster2_both_AF_FWE_c0_h0_t0_s0_b1.nii','cluster3_both_AF_FWE_c0_h0_t0_s0_b1.nii', \n",
    "                'cluster4_both_AF_FWE_c0_h0_t0_s0_b1.nii','cluster5_both_AF_FWE_c0_h0_t0_s0_b1.nii','cluster6_both_AF_FWE_c0_h0_t0_s0_b1.nii',\n",
    "                'cluster7_both_AF_FWE_c0_h0_t0_s0_b1.nii','cluster8_both_AF_FWE_c0_h0_t0_s0_b1.nii','cluster9_both_AF_FWE_c0_h0_t0_s0_b1.nii',\n",
    "                'cluster10_both_AF_FWE_c0_h0_t0_s0_b1.nii']\n",
    "\n",
    "# load the first file to get the shape and affine\n",
    "first_img = nib.load(input_files[0])\n",
    "merged_data = np.zeros(first_img.shape)\n",
    "\n",
    "# loop through each file and add its data to the merged array\n",
    "for i, file in enumerate(input_files):\n",
    "    img = nib.load(file)\n",
    "    data = img.get_fdata()\n",
    "\n",
    "# assign the value (i+1) to the corresponding voxels\n",
    "merged_data[data > 0] = i + 1\n",
    "\n",
    "# create a new nifti with the merged data/clusters\n",
    "merged_img = nib.Nifti1Image(merged_data, affine=first_img.affine)\n",
    "\n",
    "# save it\n",
    "nib.save(merged_img, 'merged_clusters.nii')\n",
    "print(\"Merged NIfTI file saved as 'merged_clusters.nii'\")"
   ]
  },
  {
   "cell_type": "code",
   "execution_count": null,
   "id": "25228461-9473-479f-9a03-f4df63b7babe",
   "metadata": {},
   "outputs": [],
   "source": []
  }
 ],
 "metadata": {
  "kernelspec": {
   "display_name": "anaconda-2024.02-py310",
   "language": "python",
   "name": "conda-env-anaconda-2024.02-py310-py"
  },
  "language_info": {
   "codemirror_mode": {
    "name": "ipython",
    "version": 3
   },
   "file_extension": ".py",
   "mimetype": "text/x-python",
   "name": "python",
   "nbconvert_exporter": "python",
   "pygments_lexer": "ipython3",
   "version": "3.10.14"
  }
 },
 "nbformat": 4,
 "nbformat_minor": 5
}
